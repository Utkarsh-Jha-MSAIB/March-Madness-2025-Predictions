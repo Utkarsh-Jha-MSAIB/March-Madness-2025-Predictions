{
 "cells": [
  {
   "cell_type": "markdown",
   "id": "62f997df-fc19-4087-8c2e-a28713951295",
   "metadata": {
    "scrolled": true
   },
   "source": [
    "## Reddit Post & Comments Scraper (PRAW)\n",
    "\n",
    "This script uses the `praw` library to extract a Reddit post and all its comments from a specified post ID in the `CollegeBasketball` subreddit.\n",
    "\n",
    "**Key Steps**:\n",
    "- Connect to Reddit API using credentials\n",
    "- Extract post info: ID, title, author, body, upvotes, downvotes, and comment count\n",
    "- Fetch all comments (expanded with `.replace_more(limit=None)`)\n",
    "- Save post + comments to `{post_id}.csv`\n",
    "\n",
    "**Output Format**:\n",
    "- First row: post details\n",
    "- Following rows: individual comments with author, text, upvotes, downvotes\n"
   ]
  },
  {
   "cell_type": "code",
   "execution_count": 5,
   "id": "56330902-b66c-429c-bb26-698e2299f700",
   "metadata": {},
   "outputs": [],
   "source": [
    "#pip install praw"
   ]
  },
  {
   "cell_type": "code",
   "execution_count": 11,
   "id": "c50fea42-e03a-4867-bbc0-5f5529b0a9ef",
   "metadata": {},
   "outputs": [
    {
     "name": "stdout",
     "output_type": "stream",
     "text": [
      "Data written to 1i17q99.csv\n"
     ]
    }
   ],
   "source": [
    "import praw\n",
    "import csv\n",
    "\n",
    "# Reddit API credentials\n",
    "reddit = praw.Reddit(\n",
    "    client_id=\"llllg4GBJd2Wsl7v6DRo447Q\",\n",
    "    client_secret=\"lllllafeWb1ShHLli79xMHttXLtTSfw\",\n",
    "    user_agent=\"llll\",\n",
    ")\n",
    "\n",
    "# Replace with the actual subreddit and post ID\n",
    "#subreddit_name = \"CollegeBasketball\"\n",
    "#post_id = \"1g6rpke\" \n",
    "subreddit_name = \"CollegeBasketball\"\n",
    "post_id = \"1i17q99\" \n",
    "\n",
    "\n",
    "submission = reddit.submission(id=post_id)\n",
    "\n",
    "# Prepare data for CSV\n",
    "csv_data = [[\"Post ID\", \"Title\", \"Author\", \"Body\", \"Upvotes\", \"Downvotes\", \"Number of Comments\"]]\n",
    "\n",
    "# Extract post data\n",
    "csv_data.append([\n",
    "    submission.id,\n",
    "    submission.title,\n",
    "    submission.author.name if submission.author else \"[deleted]\",\n",
    "    submission.selftext,\n",
    "    submission.ups,\n",
    "    submission.downs,\n",
    "    submission.num_comments,\n",
    "])\n",
    "\n",
    "# Extract comments\n",
    "submission.comments.replace_more(limit=None)\n",
    "for comment in submission.comments.list():\n",
    "     csv_data.append([\"Comment\", comment.author.name if comment.author else \"[deleted]\", comment.body, comment.ups, comment.downs])\n",
    "\n",
    "# Write to CSV file\n",
    "with open(f\"{submission.id}.csv\", \"w\", newline=\"\", encoding=\"utf-8\") as csvfile:\n",
    "    csv_writer = csv.writer(csvfile)\n",
    "    csv_writer.writerows(csv_data)\n",
    "\n",
    "print(f\"Data written to {submission.id}.csv\")"
   ]
  }
 ],
 "metadata": {
  "kernelspec": {
   "display_name": "Python [conda env:base] *",
   "language": "python",
   "name": "conda-base-py"
  },
  "language_info": {
   "codemirror_mode": {
    "name": "ipython",
    "version": 3
   },
   "file_extension": ".py",
   "mimetype": "text/x-python",
   "name": "python",
   "nbconvert_exporter": "python",
   "pygments_lexer": "ipython3",
   "version": "3.12.7"
  }
 },
 "nbformat": 4,
 "nbformat_minor": 5
}
