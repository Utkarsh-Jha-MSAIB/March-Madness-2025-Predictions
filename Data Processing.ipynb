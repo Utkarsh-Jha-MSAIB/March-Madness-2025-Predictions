{
 "cells": [
  {
   "cell_type": "markdown",
   "id": "1f1067b7-283a-4a5c-89f2-8acc7875ae9b",
   "metadata": {},
   "source": [
    "### MDCM Data Processing"
   ]
  },
  {
   "cell_type": "markdown",
   "id": "3d779468-8bf0-4db1-aca4-d51bf33814f7",
   "metadata": {},
   "source": [
    "> <sub>⚠️ **Note**: Internal links (like Table of Contents) work best when this notebook is opened in **Jupyter Notebook** or **nbviewer.org**.<br>\n",
    "> GitHub does **not support scrolling to sections** inside `.ipynb` files.</sub>"
   ]
  },
  {
   "cell_type": "markdown",
   "id": "51ddbf23-4195-4839-8ed3-07c8143c2db7",
   "metadata": {},
   "source": [
    "---\n",
    "######  - [Reading March Madness Dataset](#Reading-March-Madness-Dataset)\n",
    "######  - [Process Tournament Data](#Process-Tournament-Data)\n",
    "######  - [Writing the dataset](#Writing-the-dataset)\n",
    "---"
   ]
  },
  {
   "cell_type": "markdown",
   "id": "0aa52003-51b6-4f77-ac3d-bcb53371a3b8",
   "metadata": {},
   "source": [
    "#### Reading March Madness Dataset\n",
    "######  - [_Click here to move back to index_](#MDCM-Data-Processing)"
   ]
  },
  {
   "cell_type": "code",
   "execution_count": 5,
   "id": "f5247a28-9f49-4beb-aa74-abc35d71128b",
   "metadata": {},
   "outputs": [],
   "source": [
    "import sys\n",
    "sys.path.append('src') \n"
   ]
  },
  {
   "cell_type": "code",
   "execution_count": 6,
   "id": "b8f015b9-93e7-403a-ba5d-75308f708320",
   "metadata": {},
   "outputs": [],
   "source": [
    "from Data_Preprocessing import load_data\n",
    "\n",
    "mm_data = load_data('data/raw/NCAA_Tourney_2002_2024.csv')\n",
    "coach_data = load_data('data/raw/2002-2023 March Madness Data.csv')\n"
   ]
  },
  {
   "cell_type": "markdown",
   "id": "dcb07d8f-f218-40d9-93f9-3f0cb43e64fd",
   "metadata": {},
   "source": [
    "#### Process Tournament Data\n",
    "######  - [_Click here to move back to index_](#MDCM-Data-Processing)"
   ]
  },
  {
   "cell_type": "code",
   "execution_count": 8,
   "id": "9cf41caf-fb0d-4f49-8c14-e802244eeb8b",
   "metadata": {},
   "outputs": [],
   "source": [
    "from Data_Preprocessing import process_tournament_data, distance\n",
    "\n",
    "mm_data = process_tournament_data(mm_data, coach_data)\n",
    "\n",
    "mm_data['dist1'] = mm_data.apply(lambda row: distance(row['host_lat'], row['host_long'], row['team1_lat'], row['team1_long']), axis=1)\n",
    "mm_data['dist2'] = mm_data.apply(lambda row: distance(row['host_lat'], row['host_long'], row['team2_lat'], row['team2_long']), axis=1)\n",
    "\n",
    "# Create distance differential column\n",
    "mm_data['diff_dist'] = mm_data['dist1'] - mm_data['dist2']\n"
   ]
  },
  {
   "cell_type": "code",
   "execution_count": 9,
   "id": "d7462c47-46e0-4295-b2e1-6b5cafc4d1bc",
   "metadata": {},
   "outputs": [
    {
     "data": {
      "text/html": [
       "<div>\n",
       "<style scoped>\n",
       "    .dataframe tbody tr th:only-of-type {\n",
       "        vertical-align: middle;\n",
       "    }\n",
       "\n",
       "    .dataframe tbody tr th {\n",
       "        vertical-align: top;\n",
       "    }\n",
       "\n",
       "    .dataframe thead th {\n",
       "        text-align: right;\n",
       "    }\n",
       "</style>\n",
       "<table border=\"1\" class=\"dataframe\">\n",
       "  <thead>\n",
       "    <tr style=\"text-align: right;\">\n",
       "      <th></th>\n",
       "      <th>team1_id</th>\n",
       "      <th>team2_id</th>\n",
       "      <th>team1_seed</th>\n",
       "      <th>team2_seed</th>\n",
       "      <th>game_id</th>\n",
       "      <th>point_diff</th>\n",
       "      <th>team1_AdjEM</th>\n",
       "      <th>team2_AdjEM</th>\n",
       "      <th>SeedDiff</th>\n",
       "      <th>team1_eFG</th>\n",
       "      <th>team2_eFG</th>\n",
       "      <th>TurnoverMargin</th>\n",
       "      <th>team1_FTR</th>\n",
       "      <th>team2_FTR</th>\n",
       "      <th>diff_dist</th>\n",
       "    </tr>\n",
       "  </thead>\n",
       "  <tbody>\n",
       "    <tr>\n",
       "      <th>0</th>\n",
       "      <td>1314</td>\n",
       "      <td>1181</td>\n",
       "      <td>8</td>\n",
       "      <td>2</td>\n",
       "      <td>2022-1314-1181</td>\n",
       "      <td>4</td>\n",
       "      <td>16.0439</td>\n",
       "      <td>23.7126</td>\n",
       "      <td>6</td>\n",
       "      <td>42.009852</td>\n",
       "      <td>44.430378</td>\n",
       "      <td>-0.020572</td>\n",
       "      <td>0.888384</td>\n",
       "      <td>0.786501</td>\n",
       "      <td>-13.433263</td>\n",
       "    </tr>\n",
       "    <tr>\n",
       "      <th>1</th>\n",
       "      <td>1242</td>\n",
       "      <td>1437</td>\n",
       "      <td>1</td>\n",
       "      <td>2</td>\n",
       "      <td>2022-1242-1437</td>\n",
       "      <td>16</td>\n",
       "      <td>25.4871</td>\n",
       "      <td>24.1111</td>\n",
       "      <td>-1</td>\n",
       "      <td>43.120413</td>\n",
       "      <td>41.683441</td>\n",
       "      <td>-0.030260</td>\n",
       "      <td>0.804548</td>\n",
       "      <td>0.954516</td>\n",
       "      <td>-635.035142</td>\n",
       "    </tr>\n",
       "    <tr>\n",
       "      <th>2</th>\n",
       "      <td>1242</td>\n",
       "      <td>1314</td>\n",
       "      <td>1</td>\n",
       "      <td>8</td>\n",
       "      <td>2022-1242-1314</td>\n",
       "      <td>3</td>\n",
       "      <td>25.4871</td>\n",
       "      <td>16.0439</td>\n",
       "      <td>-7</td>\n",
       "      <td>43.120413</td>\n",
       "      <td>42.009852</td>\n",
       "      <td>0.010861</td>\n",
       "      <td>0.804548</td>\n",
       "      <td>0.888384</td>\n",
       "      <td>-112.798837</td>\n",
       "    </tr>\n",
       "    <tr>\n",
       "      <th>3</th>\n",
       "      <td>1242</td>\n",
       "      <td>1274</td>\n",
       "      <td>1</td>\n",
       "      <td>10</td>\n",
       "      <td>2022-1242-1274</td>\n",
       "      <td>26</td>\n",
       "      <td>25.4871</td>\n",
       "      <td>12.6250</td>\n",
       "      <td>-9</td>\n",
       "      <td>43.120413</td>\n",
       "      <td>43.105729</td>\n",
       "      <td>-0.055928</td>\n",
       "      <td>0.804548</td>\n",
       "      <td>0.824630</td>\n",
       "      <td>-1201.318434</td>\n",
       "    </tr>\n",
       "    <tr>\n",
       "      <th>4</th>\n",
       "      <td>1314</td>\n",
       "      <td>1389</td>\n",
       "      <td>8</td>\n",
       "      <td>15</td>\n",
       "      <td>2022-1314-1389</td>\n",
       "      <td>20</td>\n",
       "      <td>16.0439</td>\n",
       "      <td>4.2730</td>\n",
       "      <td>-7</td>\n",
       "      <td>42.009852</td>\n",
       "      <td>39.241606</td>\n",
       "      <td>-0.020725</td>\n",
       "      <td>0.888384</td>\n",
       "      <td>0.848308</td>\n",
       "      <td>436.787027</td>\n",
       "    </tr>\n",
       "  </tbody>\n",
       "</table>\n",
       "</div>"
      ],
      "text/plain": [
       "   team1_id  team2_id  team1_seed  team2_seed         game_id  point_diff  \\\n",
       "0      1314      1181           8           2  2022-1314-1181           4   \n",
       "1      1242      1437           1           2  2022-1242-1437          16   \n",
       "2      1242      1314           1           8  2022-1242-1314           3   \n",
       "3      1242      1274           1          10  2022-1242-1274          26   \n",
       "4      1314      1389           8          15  2022-1314-1389          20   \n",
       "\n",
       "   team1_AdjEM  team2_AdjEM  SeedDiff  team1_eFG  team2_eFG  TurnoverMargin  \\\n",
       "0      16.0439      23.7126         6  42.009852  44.430378       -0.020572   \n",
       "1      25.4871      24.1111        -1  43.120413  41.683441       -0.030260   \n",
       "2      25.4871      16.0439        -7  43.120413  42.009852        0.010861   \n",
       "3      25.4871      12.6250        -9  43.120413  43.105729       -0.055928   \n",
       "4      16.0439       4.2730        -7  42.009852  39.241606       -0.020725   \n",
       "\n",
       "   team1_FTR  team2_FTR    diff_dist  \n",
       "0   0.888384   0.786501   -13.433263  \n",
       "1   0.804548   0.954516  -635.035142  \n",
       "2   0.804548   0.888384  -112.798837  \n",
       "3   0.804548   0.824630 -1201.318434  \n",
       "4   0.888384   0.848308   436.787027  "
      ]
     },
     "execution_count": 9,
     "metadata": {},
     "output_type": "execute_result"
    }
   ],
   "source": [
    "\n",
    "mm_data[['team1_id','team2_id','team1_seed','team2_seed','game_id', \n",
    "         'point_diff','team1_AdjEM', 'team2_AdjEM', 'SeedDiff', 'team1_eFG', \n",
    "         'team2_eFG', 'TurnoverMargin','team1_FTR', 'team2_FTR','diff_dist']].head()\n"
   ]
  },
  {
   "cell_type": "markdown",
   "id": "4d12d0ef-1900-49b9-a893-1f90e7d2446b",
   "metadata": {},
   "source": [
    "#### Writing the dataset\n",
    "######  - [_Click here to move back to index_](#MDCM-Data-Processing)"
   ]
  },
  {
   "cell_type": "code",
   "execution_count": 11,
   "id": "1e171981-cf58-4679-8528-daa03a489e9a",
   "metadata": {},
   "outputs": [
    {
     "name": "stdout",
     "output_type": "stream",
     "text": [
      "Data written to: C:\\Users\\utkar\\Desktop\\PyCharm Projects Spring\\Deloitte March Crunch Data Madness\\data\\processed\\mm_data.csv\n"
     ]
    },
    {
     "data": {
      "text/plain": [
       "'data\\\\processed\\\\mm_data.csv'"
      ]
     },
     "execution_count": 11,
     "metadata": {},
     "output_type": "execute_result"
    }
   ],
   "source": [
    "from Data_Preprocessing import write_data\n",
    "\n",
    "# Save to processed\n",
    "write_data(mm_data, 'mm_data.csv')"
   ]
  }
 ],
 "metadata": {
  "kernelspec": {
   "display_name": "Python [conda env:base] *",
   "language": "python",
   "name": "conda-base-py"
  },
  "language_info": {
   "codemirror_mode": {
    "name": "ipython",
    "version": 3
   },
   "file_extension": ".py",
   "mimetype": "text/x-python",
   "name": "python",
   "nbconvert_exporter": "python",
   "pygments_lexer": "ipython3",
   "version": "3.12.7"
  }
 },
 "nbformat": 4,
 "nbformat_minor": 5
}
